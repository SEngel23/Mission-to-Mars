{
 "cells": [
  {
   "cell_type": "code",
   "execution_count": 2,
   "id": "8ea92b0f",
   "metadata": {},
   "outputs": [],
   "source": [
    "# Import Splinter and BeautifulSoup\n",
    "from splinter import Browser\n",
    "from bs4 import BeautifulSoup as soup\n",
    "from webdriver_manager.chrome import ChromeDriverManager\n",
    "import pandas as pd"
   ]
  },
  {
   "cell_type": "code",
   "execution_count": 3,
   "id": "53e1a68f",
   "metadata": {},
   "outputs": [
    {
     "name": "stderr",
     "output_type": "stream",
     "text": [
      "[WDM] - Downloading: 100%|██████████| 6.46M/6.46M [00:00<00:00, 24.2MB/s]\n"
     ]
    }
   ],
   "source": [
    "executable_path = {'executable_path': ChromeDriverManager().install()}\n",
    "browser = Browser('chrome', **executable_path, headless=False)"
   ]
  },
  {
   "cell_type": "code",
   "execution_count": 4,
   "id": "f645763f",
   "metadata": {},
   "outputs": [],
   "source": [
    "# Visit the Mars NASA news site\n",
    "url = 'https://redplanetscience.com'\n",
    "browser.visit(url)"
   ]
  },
  {
   "cell_type": "code",
   "execution_count": 24,
   "id": "6e702ca5",
   "metadata": {},
   "outputs": [],
   "source": [
    "# setup the html parser\n",
    "html = browser.html\n",
    "news_soup = soup(html, 'html.parser')"
   ]
  },
  {
   "cell_type": "code",
   "execution_count": 30,
   "id": "a5e55074",
   "metadata": {},
   "outputs": [
    {
     "name": "stdout",
     "output_type": "stream",
     "text": [
      "NASA to Broadcast Mars 2020 Perseverance Launch, Prelaunch Activities\n",
      "Starting July 27, news activities will cover everything from mission engineering and science to returning samples from Mars to, of course, the launch itself.\n"
     ]
    }
   ],
   "source": [
    "# find the headline title and it's preview article summary\n",
    "title_name = news_soup.find('div', class_=\"content_title\").text\n",
    "previews = news_soup.find('div', class_=\"article_teaser_body\").text\n",
    "\n",
    "print(title_name)\n",
    "print(previews)"
   ]
  },
  {
   "cell_type": "code",
   "execution_count": 22,
   "id": "21ada7ee",
   "metadata": {},
   "outputs": [
    {
     "name": "stdout",
     "output_type": "stream",
     "text": [
      "NASA to Broadcast Mars 2020 Perseverance Launch, Prelaunch Activities\n",
      "Mars 2020 Unwrapped and Ready for More Testing\n",
      "NASA Perseverance Mars Rover Scientists Train in the Nevada Desert\n",
      "How NASA's Mars Helicopter Will Reach the Red Planet's Surface\n",
      "NASA's Curiosity Keeps Rolling As Team Operates Rover From Home\n",
      "From JPL's Mailroom to Mars and Beyond\n",
      "With Mars Methane Mystery Unsolved, Curiosity Serves Scientists a New One: Oxygen\n",
      "The Extraordinary Sample-Gathering System of NASA's Perseverance Mars Rover\n",
      "Mars Is Getting a New Robotic Meteorologist\n",
      "NASA's Perseverance Rover Will Carry First Spacesuit Materials to Mars\n",
      "NASA's Mars 2020 Comes Full Circle\n",
      "Meet the People Behind NASA's Perseverance Rover\n",
      "Scientists Explore Outback as Testbed for Mars \n",
      "NASA's Push to Save the Mars InSight Lander's Heat Probe\n",
      "What's Mars Solar Conjunction, and Why Does It Matter?\n"
     ]
    }
   ],
   "source": [
    "title = []\n",
    "\n",
    "for title in title_name:\n",
    "    print(title.get_text())"
   ]
  },
  {
   "cell_type": "code",
   "execution_count": 20,
   "id": "e6714490",
   "metadata": {},
   "outputs": [
    {
     "name": "stdout",
     "output_type": "stream",
     "text": [
      "Starting July 27, news activities will cover everything from mission engineering and science to returning samples from Mars to, of course, the launch itself.\n",
      "In time-lapse video, bunny-suited engineers remove the inner layer of protective foil on NASA's Mars 2020 rover after it was relocated for testing.\n",
      "Team members searched for signs of ancient microscopic life there, just as NASA's latest rover will on the Red Planet next year.\n",
      "The small craft will seek to prove that powered, controlled flight is possible on another planet. But just getting it onto the surface of Mars will take a whole lot of ingenuity.\n",
      "The team has learned to meet new challenges as they work remotely on the Mars mission.\n",
      "Bill Allen has thrived as the mechanical systems design lead for three Mars rover missions, but he got his start as a teenager sorting letters for the NASA center.\n",
      "For the first time in the history of space exploration, scientists have measured the seasonal changes in the gases that fill the air directly above the surface of Gale Crater on Mars. \n",
      "Two astronauts collected Moon rocks on Apollo 11. It will take three robotic systems working together to gather up the first Mars rock samples for return to Earth.\n",
      "Sensors on NASA's Perseverance will help prepare for future human exploration by taking weather measurements and studying dust particles.\n",
      "In a Q&A, spacesuit designer Amy Ross explains how five samples, including a piece of helmet visor, will be tested aboard the rover, which is targeting a July 30 launch. \n",
      "Aiming to pinpoint the Martian vehicle's center of gravity, engineers took NASA's 2,300-pound Mars 2020 rover for a spin in the clean room at JPL. \n",
      "These are the scientists and engineers who built NASA's next Mars rover and who will guide it to a safe landing in Jezero Crater. \n",
      "Australia provides a great place for NASA's Mars 2020 and the ESA-Roscosmos ExoMars scientists to hone techniques in preparation for searching for signs ancient life on Mars.\n",
      "The scoop on the end of the spacecraft's robotic arm will be used to 'pin' the mole against the wall of its hole.\n",
      "NASA spacecraft at Mars are going to be on their own for a few weeks when the Sun comes between Mars and Earth, interrupting communications.\n"
     ]
    }
   ],
   "source": [
    "preview = []\n",
    "\n",
    "for preview in previews:\n",
    "    print(preview.get_text())\n"
   ]
  },
  {
   "cell_type": "code",
   "execution_count": 38,
   "id": "6b3621cb",
   "metadata": {},
   "outputs": [
    {
     "data": {
      "text/plain": [
       "{<div class=\"content_title\">What's Mars Solar Conjunction, and Why Does It Matter?</div>: <div class=\"article_teaser_body\">NASA spacecraft at Mars are going to be on their own for a few weeks when the Sun comes between Mars and Earth, interrupting communications.</div>}"
      ]
     },
     "execution_count": 38,
     "metadata": {},
     "output_type": "execute_result"
    }
   ],
   "source": [
    "mars_news = {title: preview}\n",
    "\n",
    "\n",
    "mars_news\n"
   ]
  },
  {
   "cell_type": "code",
   "execution_count": null,
   "id": "a30f4d17",
   "metadata": {},
   "outputs": [],
   "source": [
    "browser.quit()"
   ]
  },
  {
   "cell_type": "code",
   "execution_count": null,
   "id": "5a40cdfe",
   "metadata": {},
   "outputs": [],
   "source": []
  }
 ],
 "metadata": {
  "kernelspec": {
   "display_name": "Python 3.7.13 ('PythonData')",
   "language": "python",
   "name": "python3"
  },
  "language_info": {
   "codemirror_mode": {
    "name": "ipython",
    "version": 3
   },
   "file_extension": ".py",
   "mimetype": "text/x-python",
   "name": "python",
   "nbconvert_exporter": "python",
   "pygments_lexer": "ipython3",
   "version": "3.7.13"
  },
  "vscode": {
   "interpreter": {
    "hash": "d3ed55dcdb4f23058d2a8be6b3f67f3cbbab950f4c85a827478bcb559749cb1e"
   }
  }
 },
 "nbformat": 4,
 "nbformat_minor": 5
}
